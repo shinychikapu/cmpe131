{
 "cells": [
  {
   "cell_type": "code",
   "execution_count": 1,
   "metadata": {},
   "outputs": [
    {
     "name": "stdout",
     "output_type": "stream",
     "text": [
      "2 steps 1 step \n"
     ]
    }
   ],
   "source": [
    "def my_step(n:int):\n",
    "    # if n == 1:\n",
    "    #     return '1 step '\n",
    "    # elif n == 2:\n",
    "    #     return '2 steps '\n",
    "    # else:\n",
    "    #     return my_step(n-1) + my_step(n-2)\n",
    "    \n",
    "\n",
    "    # 1+1+1+1\n",
    "    # 2+2\n",
    "    # 2+1+1\n",
    "    # 1+1+2\n",
    "    # 1+2+1\n",
    "\n",
    "    #1+1+1\n",
    "    #2+1\n",
    "    #1+2\n",
    "print(my_step(3)) \n"
   ]
  },
  {
   "cell_type": "code",
   "execution_count": 2,
   "metadata": {},
   "outputs": [
    {
     "name": "stdout",
     "output_type": "stream",
     "text": [
      "Error! Please input 2 lists of integers\n",
      "None\n"
     ]
    }
   ],
   "source": [
    "def mergeList(arr:list, arr_:list):\n",
    "    try:\n",
    "        for i in range(len(arr)):\n",
    "            min = i\n",
    "            for j in range(i + 1, len(arr)):\n",
    "                if arr[j] < arr[min]:\n",
    "                    min = j\n",
    "            if(arr[i] != arr[min]):\n",
    "                temp = arr[i]\n",
    "                arr[i] = arr[min]\n",
    "                arr[min] = temp\n",
    "        for i in range(len(arr_)):\n",
    "            min = i\n",
    "            for j in range(i + 1, len(arr_)):\n",
    "                if arr_[j] < arr_[min]:\n",
    "                    min = j\n",
    "            if(arr_[i] != arr_[min]):\n",
    "                temp = arr_[i]\n",
    "                arr_[i] = arr_[min]\n",
    "                arr_[min] = temp\n",
    "        result = arr + arr_\n",
    "        return result\n",
    "    except:\n",
    "        print(\"Error! Please input 2 lists of integers\")\n",
    "\n",
    "print(mergeList([1,4,5,'a'], [6,3,7]))"
   ]
  },
  {
   "cell_type": "code",
   "execution_count": 3,
   "metadata": {},
   "outputs": [
    {
     "ename": "SyntaxError",
     "evalue": "incomplete input (4021280204.py, line 1)",
     "output_type": "error",
     "traceback": [
      "\u001b[1;36m  Cell \u001b[1;32mIn[3], line 1\u001b[1;36m\u001b[0m\n\u001b[1;33m    def sort_dictionary(input:dict):\u001b[0m\n\u001b[1;37m                                    ^\u001b[0m\n\u001b[1;31mSyntaxError\u001b[0m\u001b[1;31m:\u001b[0m incomplete input\n"
     ]
    }
   ],
   "source": [
    "def sort_dictionary(input:dict):\n",
    "    "
   ]
  },
  {
   "cell_type": "code",
   "execution_count": null,
   "metadata": {},
   "outputs": [],
   "source": []
  }
 ],
 "metadata": {
  "kernelspec": {
   "display_name": "venv",
   "language": "python",
   "name": "python3"
  },
  "language_info": {
   "codemirror_mode": {
    "name": "ipython",
    "version": 3
   },
   "file_extension": ".py",
   "mimetype": "text/x-python",
   "name": "python",
   "nbconvert_exporter": "python",
   "pygments_lexer": "ipython3",
   "version": "3.10.11"
  },
  "orig_nbformat": 4
 },
 "nbformat": 4,
 "nbformat_minor": 2
}
